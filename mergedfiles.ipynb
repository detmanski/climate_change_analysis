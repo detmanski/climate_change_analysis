{
 "cells": [
  {
   "cell_type": "code",
   "execution_count": null,
   "metadata": {},
   "outputs": [],
   "source": [
    "import pandas as pd\n",
    "\n",
    "\n",
    "#load csv files\n",
    "surface_temp_change_df = pd.read_csv(\"Resources/surface_temp_change_clean.csv\")\n",
    "sea_levels_df = pd.read_csv(\"Resources/sea_levels_clean.csv\")\n",
    "forest_and_carbon_df = pd.read_csv(\"Resources/\")"
   ]
  }
 ],
 "metadata": {
  "language_info": {
   "name": "python"
  },
  "orig_nbformat": 4
 },
 "nbformat": 4,
 "nbformat_minor": 2
}
